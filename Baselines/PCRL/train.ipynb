{
 "cells": [
  {
   "cell_type": "code",
   "execution_count": null,
   "metadata": {
    "vscode": {
     "languageId": "plaintext"
    }
   },
   "outputs": [],
   "source": [
    "# Core imports mirroring your script\n",
    "from argparse import Namespace\n",
    "from pcrl.utils.logging_utils import Tracker\n",
    "from pcrl.utils.training_utils import OnPolicyTrainer\n",
    "from pcrl.datasets.longbench2 import LongBench2Jsonl\n",
    "from pcrl.rewards.longbench2_mc import MCReward\n",
    "\n",
    "import os, sys, random, yaml\n",
    "sys.path.append('.')\n",
    "\n",
    "import numpy as np\n",
    "import torch\n",
    "\n",
    "print('Imports complete')\n"
   ]
  }
 ],
 "metadata": {
  "language_info": {
   "name": "python"
  }
 },
 "nbformat": 4,
 "nbformat_minor": 2
}
